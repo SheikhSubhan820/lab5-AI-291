{
 "cells": [
  {
   "cell_type": "code",
   "execution_count": 22,
   "id": "42d29eef-c060-4216-9410-ceff15cc1750",
   "metadata": {},
   "outputs": [
    {
     "name": "stdout",
     "output_type": "stream",
     "text": [
      "\n",
      "Confusion Matrix:\n",
      "[[5 0]\n",
      " [0 5]]\n",
      "\n",
      "Accuracy Score: 1.0\n",
      "Prediction for new entry [1]\n"
     ]
    }
   ],
   "source": [
    "import pandas as pd\n",
    "import numpy as np\n",
    "from sklearn.tree import DecisionTreeClassifier\n",
    "from sklearn.metrics import confusion_matrix, accuracy_score\n",
    "\n",
    "# Load the Excel file\n",
    "df = pd.read_excel('l5 ht.xlsx')\n",
    "\n",
    "# Strip whitespace and make all column names lowercase for consistency\n",
    "df.columns = df.columns.str.strip().str.lower()\n",
    "\n",
    "# Map gender to numeric values\n",
    "df['gender'] = df['gender'].map({'male': 1, 'female': 0})\n",
    "\n",
    "# Feature selection: Check the column names here\n",
    "features = df[['height', 'weight', 'foot size']].values\n",
    "labels = df['gender'].values\n",
    "\n",
    "# Initialize and train the Decision Tree Classifier\n",
    "classifier = DecisionTreeClassifier()\n",
    "classifier = classifier.fit(features, labels)\n",
    "\n",
    "# Predictions on the training data\n",
    "predictions = classifier.predict(features)\n",
    "\n",
    "# Confusion Matrix and Accuracy Score\n",
    "cm = confusion_matrix(labels, predictions)\n",
    "accuracy = accuracy_score(labels, predictions)\n",
    "\n",
    "print(\"\\nConfusion Matrix:\")\n",
    "print(cm)\n",
    "print(f\"\\nAccuracy Score: {accuracy}\")\n",
    "\n",
    "# Predict on a new sample input\n",
    "new_entry = [[6.00, 100, 12]]  # Example input\n",
    "prediction = classifier.predict(new_entry)\n",
    "print(f\"Prediction for new entry\",prediction)\n"
   ]
  },
  {
   "cell_type": "code",
   "execution_count": null,
   "id": "dd86ac1c-6b33-4b12-9217-c40b0334e9d9",
   "metadata": {},
   "outputs": [],
   "source": []
  },
  {
   "cell_type": "code",
   "execution_count": null,
   "id": "33566163-d8e4-4609-a12a-218806216619",
   "metadata": {},
   "outputs": [],
   "source": []
  }
 ],
 "metadata": {
  "kernelspec": {
   "display_name": "Python 3 (ipykernel)",
   "language": "python",
   "name": "python3"
  },
  "language_info": {
   "codemirror_mode": {
    "name": "ipython",
    "version": 3
   },
   "file_extension": ".py",
   "mimetype": "text/x-python",
   "name": "python",
   "nbconvert_exporter": "python",
   "pygments_lexer": "ipython3",
   "version": "3.12.7"
  }
 },
 "nbformat": 4,
 "nbformat_minor": 5
}
