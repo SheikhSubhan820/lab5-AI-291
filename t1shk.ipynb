{
 "cells": [
  {
   "cell_type": "code",
   "execution_count": 3,
   "id": "00226749-cd59-4914-b69a-9b340e7bf736",
   "metadata": {},
   "outputs": [
    {
     "name": "stdout",
     "output_type": "stream",
     "text": [
      "Confusion Matrix:\n",
      "[[4 0]\n",
      " [0 4]]\n",
      "Accuracy Score: 1.0\n",
      "Prediction for new entry [1]\n"
     ]
    }
   ],
   "source": [
    "import pandas as pd\n",
    "import numpy as np\n",
    "from sklearn.tree import DecisionTreeClassifier\n",
    "from sklearn.metrics import confusion_matrix, accuracy_score\n",
    "\n",
    "df = pd.read_excel('task.xlsx')\n",
    "\n",
    "df.columns = df.columns.str.strip()\n",
    "\n",
    "df['Gender'] = df['Gender'].map({'male': 1, 'female': 0})\n",
    "\n",
    "features = df[['Height', 'Weight', 'Foot_Size']].values\n",
    "labels = df['Gender'].values\n",
    "\n",
    "classifier = DecisionTreeClassifier()\n",
    "classifier = classifier.fit(features, labels)\n",
    "\n",
    "predictions = classifier.predict(features)\n",
    "\n",
    "cm = confusion_matrix(labels, predictions)\n",
    "accuracy = accuracy_score(labels, predictions)\n",
    "\n",
    "print(\"Confusion Matrix:\")\n",
    "print(cm)\n",
    "print(f\"Accuracy Score: {accuracy}\")\n",
    "\n",
    "new_entry = [[6.00, 180, 12]]\n",
    "prediction = classifier.predict(new_entry)\n",
    "print(f\"Prediction for new entry\",prediction)"
   ]
  },
  {
   "cell_type": "code",
   "execution_count": null,
   "id": "f51a0971-fbf3-49c0-a466-7d7fbfb5ee43",
   "metadata": {},
   "outputs": [],
   "source": []
  }
 ],
 "metadata": {
  "kernelspec": {
   "display_name": "Python 3 (ipykernel)",
   "language": "python",
   "name": "python3"
  },
  "language_info": {
   "codemirror_mode": {
    "name": "ipython",
    "version": 3
   },
   "file_extension": ".py",
   "mimetype": "text/x-python",
   "name": "python",
   "nbconvert_exporter": "python",
   "pygments_lexer": "ipython3",
   "version": "3.12.7"
  }
 },
 "nbformat": 4,
 "nbformat_minor": 5
}
