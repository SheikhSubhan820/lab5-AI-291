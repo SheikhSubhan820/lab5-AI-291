{
 "cells": [
  {
   "cell_type": "code",
   "execution_count": 3,
   "id": "a0c4405d-2740-48e9-bc54-2638c0ae5483",
   "metadata": {},
   "outputs": [
    {
     "name": "stdout",
     "output_type": "stream",
     "text": [
      "Original Dataset Evaluation:\n",
      "Confusion Matrix:\n",
      "[[4 0]\n",
      " [0 4]]\n",
      "Accuracy: 1.00\n",
      "\n",
      "Prediction for new entry (Height=6.00, Weight=180, Foot_Size=12): Male\n",
      "\n",
      "Updated Dataset Evaluation:\n",
      "Confusion Matrix:\n",
      "[[4 0]\n",
      " [0 5]]\n",
      "Accuracy: 1.00\n",
      "\n",
      "Prediction for another entry (Height=5.00, Weight=100, Foot_Size=6): Female\n"
     ]
    }
   ],
   "source": [
    "import pandas as pd\n",
    "from sklearn.tree import DecisionTreeClassifier\n",
    "from sklearn.metrics import confusion_matrix, accuracy_score\n",
    "\n",
    "# Original dataset\n",
    "data = {\n",
    "    'Gender': ['male', 'male', 'male', 'male', 'female', 'female', 'female', 'female'],\n",
    "    'Height': [6.00, 5.92, 5.58, 5.92, 5.00, 5.50, 5.42, 5.75],\n",
    "    'Weight': [180, 190, 170, 165, 100, 150, 130, 150],\n",
    "    'Foot_Size': [12, 11, 12, 10, 6, 8, 7, 9]\n",
    "}\n",
    "\n",
    "# Convert to DataFrame and encode Gender\n",
    "df = pd.DataFrame(data)\n",
    "df['Gender'] = df['Gender'].map({'male': 1, 'female': 0})\n",
    "\n",
    "# Extract features and labels\n",
    "features = df[['Height', 'Weight', 'Foot_Size']].values\n",
    "labels = df['Gender'].values\n",
    "\n",
    "# Train the decision tree classifier on the original dataset\n",
    "classifier = DecisionTreeClassifier()\n",
    "classifier.fit(features, labels)\n",
    "\n",
    "# Evaluate the classifier on the original dataset\n",
    "original_predictions = classifier.predict(features)\n",
    "original_cm = confusion_matrix(labels, original_predictions)\n",
    "original_accuracy = accuracy_score(labels, original_predictions)\n",
    "\n",
    "print(\"Original Dataset Evaluation:\")\n",
    "print(\"Confusion Matrix:\")\n",
    "print(original_cm)\n",
    "print(f\"Accuracy: {original_accuracy:.2f}\\n\")\n",
    "\n",
    "# Add a new entry to the dataset for prediction\n",
    "new_entry_features = [[6.00, 180, 12]]  # Example new entry\n",
    "new_prediction = classifier.predict(new_entry_features)\n",
    "print(f\"Prediction for new entry (Height=6.00, Weight=180, Foot_Size=12): {'Male' if new_prediction[0] == 1 else 'Female'}\")\n",
    "\n",
    "# Update the dataset with the new entry (assume it's 'male' for labels)\n",
    "new_data = pd.DataFrame([[6.00, 180, 12, 1]], columns=['Height', 'Weight', 'Foot_Size', 'Gender'])\n",
    "updated_df = pd.concat([df, new_data], ignore_index=True)\n",
    "\n",
    "# Extract updated features and labels\n",
    "updated_features = updated_df[['Height', 'Weight', 'Foot_Size']].values\n",
    "updated_labels = updated_df['Gender'].values\n",
    "\n",
    "# Retrain the classifier on the updated dataset\n",
    "classifier.fit(updated_features, updated_labels)\n",
    "\n",
    "# Evaluate the classifier on the updated dataset\n",
    "updated_predictions = classifier.predict(updated_features)\n",
    "updated_cm = confusion_matrix(updated_labels, updated_predictions)\n",
    "updated_accuracy = accuracy_score(updated_labels, updated_predictions)\n",
    "\n",
    "print(\"\\nUpdated Dataset Evaluation:\")\n",
    "print(\"Confusion Matrix:\")\n",
    "print(updated_cm)\n",
    "print(f\"Accuracy: {updated_accuracy:.2f}\")\n",
    "\n",
    "# Additional prediction example\n",
    "another_entry_features = [[5.00, 100, 6]]  # Example for testing\n",
    "another_prediction = classifier.predict(another_entry_features)\n",
    "print(f\"\\nPrediction for another entry (Height=5.00, Weight=100, Foot_Size=6): {'Male' if another_prediction[0] == 1 else 'Female'}\")\n"
   ]
  },
  {
   "cell_type": "code",
   "execution_count": null,
   "id": "5ed24b38-d016-431b-9972-6d3225dc7377",
   "metadata": {},
   "outputs": [],
   "source": []
  }
 ],
 "metadata": {
  "kernelspec": {
   "display_name": "Python 3 (ipykernel)",
   "language": "python",
   "name": "python3"
  },
  "language_info": {
   "codemirror_mode": {
    "name": "ipython",
    "version": 3
   },
   "file_extension": ".py",
   "mimetype": "text/x-python",
   "name": "python",
   "nbconvert_exporter": "python",
   "pygments_lexer": "ipython3",
   "version": "3.12.7"
  }
 },
 "nbformat": 4,
 "nbformat_minor": 5
}
